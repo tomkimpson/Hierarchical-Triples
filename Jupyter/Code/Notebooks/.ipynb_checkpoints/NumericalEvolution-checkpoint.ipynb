{
 "cells": [
  {
   "cell_type": "code",
   "execution_count": 4,
   "metadata": {},
   "outputs": [
    {
     "name": "stdout",
     "output_type": "stream",
     "text": [
      "The autoreload extension is already loaded. To reload it, use:\n",
      "  %reload_ext autoreload\n"
     ]
    }
   ],
   "source": [
    "%load_ext autoreload\n",
    "%autoreload 2\n",
    "import sys\n",
    "sys.path.insert(1, '../Modules/')"
   ]
  },
  {
   "cell_type": "code",
   "execution_count": 5,
   "metadata": {},
   "outputs": [],
   "source": [
    "from __future__ import division\n",
    "import numpy as np\n",
    "from setup import *\n",
    "from OrbitalMotion import numerical_orbital_evolution, analytical_orbital_evolution, analytical_split\n",
    "c,G,Msolar,AU, pc = univeral_constants()"
   ]
  },
  {
   "cell_type": "code",
   "execution_count": 6,
   "metadata": {},
   "outputs": [
    {
     "name": "stdout",
     "output_type": "stream",
     "text": [
      "Sampling frequency =  0.1  Hz for an observation period of  1  years\n",
      "Total number of integration steps is  3153600.0\n",
      "Frequency range is:  3.1709791983764586e-08  -  0.05  Hz\n"
     ]
    }
   ],
   "source": [
    "#Choose system parameters \n",
    "\n",
    "#---Inner Binary---\n",
    "m0 = 30*Msolar\n",
    "m1 = 30*Msolar\n",
    "f1 = 1e-3 #orbital frequency\n",
    "a1 = semi_major_axis(m0+m1,f1)\n",
    "e1 = 0.5 #eccentricity\n",
    "J1 = angular_momentum(m0,m1,e1,a1)#angular momentum. Eq. 12 of Randal\n",
    "g1 = np.pi/4\n",
    "\n",
    "\n",
    "#---Outer Binary\n",
    "beta=5\n",
    "a2 = beta * a1\n",
    "m2 = 10*Msolar\n",
    "e2 = 0.6\n",
    "\n",
    "#---Shared---\n",
    "I = 60 * np.pi/180.0 #Inclination\n",
    "nmodes = 20 #number of modes to sum over for GW\n",
    "iota = 20 * np.pi/180  #angle of L vector w.r.t observer LOS \n",
    "D = 1e6 * pc #distance from source to observer 1Mpc\n",
    "\n",
    "\n",
    "\n",
    "\n",
    "#Set initial gamma\n",
    "\n",
    "mu = m0*m1/(m0+m1)\n",
    "C = (-64/5) * G**3 *mu*(m0+m1)**2 /c**5\n",
    "u = 1-e1**2\n",
    "K = 3*G*m0*m1*m2/(8*(m0+m1)) *a2**(-3) * (1-e2**2)**(-3/2)\n",
    "A = 5*K*np.sin(I)**2\n",
    "\n",
    "  \n",
    "\n",
    "\n",
    "\n",
    "#---Integration settings\n",
    "Tint = 1\n",
    "fs = 1e-1\n",
    "\n",
    "#---Info for user\n",
    "status(fs, Tint)\n"
   ]
  },
  {
   "cell_type": "code",
   "execution_count": 7,
   "metadata": {},
   "outputs": [
    {
     "name": "stdout",
     "output_type": "stream",
     "text": [
      "Final t =  31536000\n",
      "Finised numericals. 31536000.0 31536000 31536000.0 10.0\n",
      "Numerical orbital evolution has completed with fs =  0.1  Hz and Tobs =  1  years\n"
     ]
    }
   ],
   "source": [
    "#Integrate numerically\n",
    "output = numerical_orbital_evolution(m0,m1,m2,a1,e1,g1,J1,e2,a2,I,fs,Tint)\n",
    "numerical_motion = output[0]\n",
    "constants = output[1]\n",
    "numerical_motion = output[0]\n",
    "\n",
    "np.save('../Data/NumericalSolution.npy',numerical_motion )"
   ]
  },
  {
   "cell_type": "code",
   "execution_count": 10,
   "metadata": {},
   "outputs": [
    {
     "name": "stdout",
     "output_type": "stream",
     "text": [
      "Getting the waveform\n",
      "Mode sum. n =  1.0 20.0\n",
      "Mode sum. n =  2.0 20.0\n",
      "Mode sum. n =  3.0 20.0\n",
      "Mode sum. n =  4.0 20.0\n",
      "Mode sum. n =  5.0 20.0\n",
      "Mode sum. n =  6.0 20.0\n",
      "Mode sum. n =  7.0 20.0\n",
      "Mode sum. n =  8.0 20.0\n",
      "Mode sum. n =  9.0 20.0\n",
      "Mode sum. n =  10.0 20.0\n",
      "Mode sum. n =  11.0 20.0\n",
      "Mode sum. n =  12.0 20.0\n",
      "Mode sum. n =  13.0 20.0\n",
      "Mode sum. n =  14.0 20.0\n",
      "Mode sum. n =  15.0 20.0\n",
      "Mode sum. n =  16.0 20.0\n",
      "Mode sum. n =  17.0 20.0\n",
      "Mode sum. n =  18.0 20.0\n",
      "Mode sum. n =  19.0 20.0\n",
      "Mode sum. n =  20.0 20.0\n"
     ]
    }
   ],
   "source": [
    "#Calculate the waveform\n",
    "import GravRadiation as GR\n",
    "constants = np.array([m0+m1, nmodes,iota,m0*m1/(m0+m1),D])\n",
    "waveformNR = GR.Gwaves(numerical_motion, constants)\n",
    "np.save('../Data/NumericalWaveform.npy',waveformNR)\n",
    "\n",
    "\n",
    "#and plot it\n",
    "#from plot import *\n",
    "#plot_motion_and_derivatives(numerical_motion,constants)"
   ]
  },
  {
   "cell_type": "raw",
   "metadata": {},
   "source": []
  }
 ],
 "metadata": {
  "kernelspec": {
   "display_name": "Python 3",
   "language": "python",
   "name": "python3"
  },
  "language_info": {
   "codemirror_mode": {
    "name": "ipython",
    "version": 3
   },
   "file_extension": ".py",
   "mimetype": "text/x-python",
   "name": "python",
   "nbconvert_exporter": "python",
   "pygments_lexer": "ipython3",
   "version": "3.7.2"
  }
 },
 "nbformat": 4,
 "nbformat_minor": 4
}
