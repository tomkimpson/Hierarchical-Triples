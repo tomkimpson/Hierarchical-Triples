{
 "cells": [
  {
   "cell_type": "code",
   "execution_count": 1648,
   "metadata": {},
   "outputs": [
    {
     "name": "stdout",
     "output_type": "stream",
     "text": [
      "The autoreload extension is already loaded. To reload it, use:\n",
      "  %reload_ext autoreload\n"
     ]
    }
   ],
   "source": [
    "%load_ext autoreload\n",
    "%autoreload 2"
   ]
  },
  {
   "cell_type": "code",
   "execution_count": 1649,
   "metadata": {},
   "outputs": [],
   "source": [
    "from __future__ import division\n",
    "import numpy as np\n",
    "c = 3e8\n",
    "G = 6.67e-11\n",
    "Msolar = 2e30\n",
    "AU = 1.49e11 #meters\n",
    "pc = 3.086e16 #parsec in m"
   ]
  },
  {
   "cell_type": "code",
   "execution_count": 1650,
   "metadata": {},
   "outputs": [],
   "source": [
    "%matplotlib inline\n",
    "import OrbitalMotion as orb\n",
    "from plot import *\n",
    "\n",
    "#Set up initial system parameters\n",
    "m0 = 30*Msolar\n",
    "m1 = 30*Msolar\n",
    "f1 = 1e-3 #orbital frequency\n",
    "e1 = 0.5 #eccentricity\n",
    "beta=5\n",
    "m2 = 10*Msolar\n",
    "e2 =0.6\n",
    "I = 60 * np.pi/180.0 #Inclination\n",
    "gamma = np.pi/4\n",
    "nmodes = 100 #number of modes to sum over for GW\n",
    "iota = 20 * np.pi/180  #angle of L vector w.r.t observer LOS \n",
    "D = 1e6 * pc #distance from source to observer 1Mpc\n",
    "\n",
    "#And some integration parameters\n",
    "Tint = 0.1 #years 0.01\n",
    "#fs = 2\n",
    "max_f = fs/2\n",
    "min_f = 1 / (Tint * 365*24*3600)\n"
   ]
  },
  {
   "cell_type": "code",
   "execution_count": 1651,
   "metadata": {},
   "outputs": [
    {
     "name": "stdout",
     "output_type": "stream",
     "text": [
      "587465609.3038191\n"
     ]
    },
    {
     "ename": "SystemExit",
     "evalue": "",
     "output_type": "error",
     "traceback": [
      "An exception has occurred, use %tb to see the full traceback.\n",
      "\u001b[0;31mSystemExit\u001b[0m\n"
     ]
    },
    {
     "name": "stderr",
     "output_type": "stream",
     "text": [
      "/Users/tomkimpson/anaconda3/lib/python3.7/site-packages/IPython/core/interactiveshell.py:3299: UserWarning: To exit: use 'exit', 'quit', or Ctrl-D.\n",
      "  warn(\"To exit: use 'exit', 'quit', or Ctrl-D.\", stacklevel=1)\n"
     ]
    }
   ],
   "source": [
    "#Get the a short sample of the numerical orbital motion at low res\n",
    "Tint = 0.02\n",
    "fs = 2e-4\n",
    "numerical_motion = orb.get_orbital_evolution_numerical(m0,m1,f1,e1,beta,m2,e2,I,gamma,Tint,fs)\n",
    "plot_motion(numerical_motion)"
   ]
  },
  {
   "cell_type": "code",
   "execution_count": null,
   "metadata": {},
   "outputs": [],
   "source": [
    "#Increase resolution\n",
    "fs = 1e-2\n",
    "Tint = 0.02\n",
    "#Analyse the numerical motion to extract some fit parameters for e(t) ansatz\n",
    "#Get the analytical orbital motion \n",
    "motion = orb.get_orbital_evolutionV2(m0,m1,f1,e1,beta,m2,e2,I,gamma,Tint,fs,numerical_motion)"
   ]
  },
  {
   "cell_type": "code",
   "execution_count": null,
   "metadata": {},
   "outputs": [],
   "source": [
    "#Get the numerical orbital motion\n",
    "numerical_motion = orb.get_orbital_evolution_numerical(m0,m1,f1,e1,beta,m2,e2,I,gamma,Tint,fs)\n",
    "print (max(numerical_motion[:,1]))"
   ]
  },
  {
   "cell_type": "code",
   "execution_count": null,
   "metadata": {},
   "outputs": [],
   "source": [
    "plot_compare_motion(motion,numerical_motion)\n",
    "\n",
    "\n",
    "#plot_motion(numerical_motion)"
   ]
  },
  {
   "cell_type": "code",
   "execution_count": null,
   "metadata": {},
   "outputs": [],
   "source": [
    "sys.exit()\n",
    "import waveform\n",
    "constants = np.array([m0+m1, nmodes,iota,m0*m1/(m0+m1),D])\n",
    "#motion[0:len(motion),2] = numerical_motion[0:len(motion),2]\n",
    "#motion[0:len(motion),3] = numerical_motion[0:len(motion),3]\n",
    "grav = waveform.GW(motion,constants)\n",
    "grav_numerical = waveform.GW(numerical_motion,constants)"
   ]
  },
  {
   "cell_type": "code",
   "execution_count": null,
   "metadata": {},
   "outputs": [],
   "source": [
    "from overlap import overlap\n",
    "\n",
    "f,h1,h2, S = overlap(grav,grav_numerical)\n",
    "plot_GW_frequency(f,h1,h2, S)"
   ]
  },
  {
   "cell_type": "code",
   "execution_count": null,
   "metadata": {},
   "outputs": [],
   "source": [
    "e = np.linspace(0.1 , 0.9, 20)\n",
    "fe = (1-e**2)**(-7/2) * (1 + 73/24 * e**2 +37/96*e**4)\n",
    "ge = e*(1-e**2)**(-5/2)*(1 + 121/304 * e**2)\n",
    "LHS = e*(1-e**2)/fe\n",
    "RHS = ge/fe\n",
    "\n",
    "fig = plt.figure(figsize=(24,10))\n",
    "ax1 = plt.subplot2grid((1,1), (0,0))\n",
    "ax1.plot(e,LHS)\n",
    "ax1.plot(e,RHS)"
   ]
  },
  {
   "cell_type": "code",
   "execution_count": null,
   "metadata": {},
   "outputs": [],
   "source": [
    "plot_GW(grav,f1)\n",
    "plot_GW(grav_numerical,f1)"
   ]
  },
  {
   "cell_type": "code",
   "execution_count": null,
   "metadata": {},
   "outputs": [],
   "source": [
    "t = grav[:,0]\n",
    "dh_plus = (grav[:,1] - grav_numerical[:,1])\n",
    "dh_cross = (grav[:,2] - grav_numerical[:,2])\n",
    "fig = plt.figure(figsize=(24,10))\n",
    "ax1 = plt.subplot2grid((1,1), (0,0))\n",
    "ax1.plot(t,dh_cross)\n"
   ]
  },
  {
   "cell_type": "code",
   "execution_count": null,
   "metadata": {},
   "outputs": [],
   "source": [
    "e = np.linspace(0.1,0.9,20)\n",
    "e2 = 1- e**2\n",
    "K,J1,J2,mu1,M,a1 = setup(m0,m1,m2,f1,e1,e2,beta)\n",
    "\n",
    "AA = 2*K*a1**2 * (2/J1 + np.cos(I)/J2)*(1-e**2)\n",
    "BB = 10*K*a1**2 * (e**2*np.cos(I)/J2 - (1-e**2 -np.cos(I)**2)/J1)\n",
    "\n",
    "fig = plt.figure(figsize=(14,10))\n",
    "ax1 = plt.subplot2grid((1,1), (0,0))\n",
    "ax1.plot(e,e2)\n",
    "\n"
   ]
  },
  {
   "cell_type": "code",
   "execution_count": null,
   "metadata": {},
   "outputs": [],
   "source": []
  }
 ],
 "metadata": {
  "kernelspec": {
   "display_name": "Python 3",
   "language": "python",
   "name": "python3"
  },
  "language_info": {
   "codemirror_mode": {
    "name": "ipython",
    "version": 3
   },
   "file_extension": ".py",
   "mimetype": "text/x-python",
   "name": "python",
   "nbconvert_exporter": "python",
   "pygments_lexer": "ipython3",
   "version": "3.7.2"
  }
 },
 "nbformat": 4,
 "nbformat_minor": 2
}
