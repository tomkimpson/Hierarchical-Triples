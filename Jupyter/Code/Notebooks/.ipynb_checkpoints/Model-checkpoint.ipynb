{
 "cells": [
  {
   "cell_type": "code",
   "execution_count": 28,
   "metadata": {},
   "outputs": [
    {
     "name": "stdout",
     "output_type": "stream",
     "text": [
      "The autoreload extension is already loaded. To reload it, use:\n",
      "  %reload_ext autoreload\n"
     ]
    }
   ],
   "source": [
    "%matplotlib widget\n",
    "%load_ext autoreload\n",
    "%autoreload 2\n",
    "import sys\n",
    "sys.path.insert(1, '../Modules/')"
   ]
  },
  {
   "cell_type": "code",
   "execution_count": 29,
   "metadata": {},
   "outputs": [],
   "source": [
    "from __future__ import division\n",
    "import numpy as np\n",
    "from setup import *\n",
    "from plot import *\n",
    "from OrbitalMotion import numerical_orbital_evolution, analytical_orbital_evolution, analytical_split\n",
    "c,G,Msolar,AU, pc = univeral_constants()"
   ]
  },
  {
   "cell_type": "code",
   "execution_count": 30,
   "metadata": {},
   "outputs": [
    {
     "name": "stdout",
     "output_type": "stream",
     "text": [
      "Sampling frequency =  0.1  Hz for an observation period of  1.0  years\n",
      "Total number of integration steps is  3153600.0\n",
      "Frequency range is:  3.1709791983764586e-08  -  0.05  Hz\n"
     ]
    }
   ],
   "source": [
    "#Choose system parameters \n",
    "\n",
    "#---Inner Binary---\n",
    "m0 = 30*Msolar\n",
    "m1 = 30*Msolar\n",
    "f1 = 1e-3 #orbital frequency\n",
    "a1 = semi_major_axis(m0+m1,f1)\n",
    "e1 = 0.5 #initial eccentricity\n",
    "g1 = np.pi/4\n",
    "J1 = angular_momentum(m0,m1,e1,a1)#angular momentum. Eq. 12 of Randal\n",
    "\n",
    "#---Outer Binary\n",
    "beta=5\n",
    "a2 = beta * a1\n",
    "m2 = 10*Msolar\n",
    "e2 = 0.6\n",
    "\n",
    "#---Shared---\n",
    "I = 60 * np.pi/180.0 #Inclination\n",
    "nmodes = 20 #number of modes to sum over for GW\n",
    "iota = 20 * np.pi/180  #angle of L vector w.r.t observer LOS \n",
    "D = 1e6 * pc #distance from source to observer 1Mpc\n",
    "\n",
    "\n",
    "#---Integration settings\n",
    "Tint = 1.0\n",
    "fs = 1e-1\n",
    "\n",
    "#---Info for user\n",
    "status(fs, Tint)\n"
   ]
  },
  {
   "cell_type": "code",
   "execution_count": 31,
   "metadata": {},
   "outputs": [
    {
     "name": "stdout",
     "output_type": "stream",
     "text": [
      "Final t =  31536000.0\n",
      "Finised numericals. 31536000.0 31536000.0 31536000.0 1000.0\n",
      "Numerical orbital evolution has completed with fs =  0.001  Hz and Tobs =  1.0  years\n",
      "Training set ran in  3.186692237854004  seconds\n"
     ]
    }
   ],
   "source": [
    "#Create the training dataset. A numerical integration at low resolution. This should be FAST.\n",
    "import time\n",
    "tstart = time.time()\n",
    "\n",
    "#--\n",
    "output = numerical_orbital_evolution(m0,m1,m2,a1,e1,g1,J1,e2,a2,I,1e-3,Tint)\n",
    "training_set = output[0]\n",
    "constants = output[1]\n",
    "#--\n",
    "\n",
    "tend = time.time()\n",
    "\n",
    "print ('Training set ran in ',tend-tstart,' seconds')\n"
   ]
  },
  {
   "cell_type": "code",
   "execution_count": 36,
   "metadata": {},
   "outputs": [
    {
     "name": "stdout",
     "output_type": "stream",
     "text": [
      "(31537, 5)\n"
     ]
    },
    {
     "ename": "SystemExit",
     "evalue": "",
     "output_type": "error",
     "traceback": [
      "An exception has occurred, use %tb to see the full traceback.\n",
      "\u001b[0;31mSystemExit\u001b[0m\n"
     ]
    }
   ],
   "source": [
    "#temp plotting setup\n",
    "#import matplotlib.pyplot as plt\n",
    "#fig = plt.figure(figsize=(10,10)) \n",
    "#ax1 = plt.subplot2grid((1,1), (0,0))\n",
    "#end temp plottign setop\n",
    "\n",
    "#Split the training set into N subsets\n",
    "N = 10\n",
    "T_seconds = Tint*365*24*3600\n",
    "t = np.arange(0,T_seconds,1/fs)\n",
    "Tlim = T_seconds / N\n",
    "tTRAIN = training_set[:,0]\n",
    "\n",
    "\n",
    "#What is the length of the training subset?\n",
    "idx = min(range(len(tTRAIN)), key=lambda i: abs(tTRAIN[i]-Tlim))\n",
    "\n",
    "#What is the length of the full analytical, full resolution subset?\n",
    "idx2 = np.where(t == Tlim)[0][0]\n",
    "\n",
    "#Create the save array\n",
    "model = np.zeros((len(t),5))\n",
    "\n",
    "\n",
    "\n",
    "\n",
    "tstart = time.time()\n",
    "\n",
    "\n",
    "for i in range(N):\n",
    "    print ('-------', i, '--------')\n",
    "  \n",
    "    #Slice the training set data\n",
    "    subset = training_set[i*idx : i*idx + (idx+1), :]\n",
    "\n",
    "    #Slice the high resolution time\n",
    "    tHR = t[i*idx2 : i*idx2 + (idx2+1)]\n",
    "    \n",
    "\n",
    "    #Use this training set data to get a semi-analytical solution over the relevant time interval\n",
    "    output = analytical_split(subset,tHR,constants)\n",
    "\n",
    "    #ax1.plot(output[:,0], output[:,1])\n",
    "    #ax1.plot(subset[:,0], subset[:,1])\n",
    "    \n",
    "    model[i*idx2 : i*idx2 + (idx2+1),:] = output\n",
    "\n",
    "        \n",
    "tend = time.time()\n",
    "\n",
    "print ('Total runtime = ', tend-tstart)\n",
    "\n",
    "lim = 0.025\n",
    "#ax1.set_ylim(-0.0125,0.0075)"
   ]
  },
  {
   "cell_type": "code",
   "execution_count": null,
   "metadata": {},
   "outputs": [],
   "source": [
    "\n",
    "from plot import *\n",
    "### Now plot and compare\n",
    "#plot_motion(analytical)\n",
    "#plot_motion(full_set)\n",
    "plot_compare_motion(analytical,full_set)\n"
   ]
  },
  {
   "cell_type": "code",
   "execution_count": null,
   "metadata": {},
   "outputs": [],
   "source": [
    "import GravRadiation as GR\n",
    "constants = np.array([m0+m1, nmodes,iota,m0*m1/(m0+m1),D])\n",
    "waveformNR = GR.Gwaves(full_set, constants)\n",
    "waveformAN = GR.Gwaves(analytical, constants)"
   ]
  },
  {
   "cell_type": "code",
   "execution_count": null,
   "metadata": {},
   "outputs": [],
   "source": [
    "#Plot the GW waveforms\n",
    "from plot import *\n",
    "plot_GW(waveformNR,f1)\n",
    "plot_GW(waveformAN,f1)\n",
    "compare_GW(waveformNR,waveformAN)"
   ]
  },
  {
   "cell_type": "code",
   "execution_count": null,
   "metadata": {},
   "outputs": [],
   "source": [
    "#Go to frequency domain and get the overlap\n",
    "f,h1,h2, S = GR.overlap(waveformNR,waveformAN)\n",
    "plot_GW_frequency(f,h1,h2, S)"
   ]
  },
  {
   "cell_type": "code",
   "execution_count": null,
   "metadata": {},
   "outputs": [],
   "source": []
  }
 ],
 "metadata": {
  "kernelspec": {
   "display_name": "Python 3",
   "language": "python",
   "name": "python3"
  },
  "language_info": {
   "codemirror_mode": {
    "name": "ipython",
    "version": 3
   },
   "file_extension": ".py",
   "mimetype": "text/x-python",
   "name": "python",
   "nbconvert_exporter": "python",
   "pygments_lexer": "ipython3",
   "version": "3.7.2"
  }
 },
 "nbformat": 4,
 "nbformat_minor": 4
}
