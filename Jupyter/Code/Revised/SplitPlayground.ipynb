{
 "cells": [
  {
   "cell_type": "code",
   "execution_count": 3,
   "metadata": {},
   "outputs": [
    {
     "name": "stdout",
     "output_type": "stream",
     "text": [
      "The autoreload extension is already loaded. To reload it, use:\n",
      "  %reload_ext autoreload\n"
     ]
    }
   ],
   "source": [
    "%load_ext autoreload\n",
    "%autoreload 2"
   ]
  },
  {
   "cell_type": "code",
   "execution_count": 4,
   "metadata": {},
   "outputs": [
    {
     "ename": "RecursionError",
     "evalue": "maximum recursion depth exceeded during compilation",
     "output_type": "error",
     "traceback": [
      "\u001b[0;31m---------------------------------------------------------------------------\u001b[0m",
      "\u001b[0;31mRecursionError\u001b[0m                            Traceback (most recent call last)",
      "\u001b[0;32m<ipython-input-4-9a8973acf577>\u001b[0m in \u001b[0;36m<module>\u001b[0;34m\u001b[0m\n\u001b[1;32m      2\u001b[0m \u001b[0;32mimport\u001b[0m \u001b[0mnumpy\u001b[0m \u001b[0;32mas\u001b[0m \u001b[0mnp\u001b[0m\u001b[0;34m\u001b[0m\u001b[0;34m\u001b[0m\u001b[0m\n\u001b[1;32m      3\u001b[0m \u001b[0;32mfrom\u001b[0m \u001b[0msetup\u001b[0m \u001b[0;32mimport\u001b[0m \u001b[0;34m*\u001b[0m\u001b[0;34m\u001b[0m\u001b[0;34m\u001b[0m\u001b[0m\n\u001b[0;32m----> 4\u001b[0;31m \u001b[0;32mfrom\u001b[0m \u001b[0mOrbitalMotion\u001b[0m \u001b[0;32mimport\u001b[0m \u001b[0mnumerical_orbital_evolution\u001b[0m\u001b[0;34m,\u001b[0m \u001b[0manalytical_orbital_evolution\u001b[0m\u001b[0;34m,\u001b[0m \u001b[0manalytical_split\u001b[0m\u001b[0;34m\u001b[0m\u001b[0;34m\u001b[0m\u001b[0m\n\u001b[0m\u001b[1;32m      5\u001b[0m \u001b[0mc\u001b[0m\u001b[0;34m,\u001b[0m\u001b[0mG\u001b[0m\u001b[0;34m,\u001b[0m\u001b[0mMsolar\u001b[0m\u001b[0;34m,\u001b[0m\u001b[0mAU\u001b[0m\u001b[0;34m,\u001b[0m \u001b[0mpc\u001b[0m \u001b[0;34m=\u001b[0m \u001b[0muniveral_constants\u001b[0m\u001b[0;34m(\u001b[0m\u001b[0;34m)\u001b[0m\u001b[0;34m\u001b[0m\u001b[0;34m\u001b[0m\u001b[0m\n",
      "\u001b[0;32m~/PhD/PI/PI_Work/Jupyter/Code/Revised/OrbitalMotion.py\u001b[0m in \u001b[0;36m<module>\u001b[0;34m\u001b[0m\n\u001b[1;32m      4\u001b[0m \u001b[0;32mfrom\u001b[0m \u001b[0mderivatives\u001b[0m \u001b[0;32mimport\u001b[0m \u001b[0;34m*\u001b[0m\u001b[0;34m\u001b[0m\u001b[0;34m\u001b[0m\u001b[0m\n\u001b[1;32m      5\u001b[0m \u001b[0;32mimport\u001b[0m \u001b[0msys\u001b[0m\u001b[0;34m\u001b[0m\u001b[0;34m\u001b[0m\u001b[0m\n\u001b[0;32m----> 6\u001b[0;31m \u001b[0;32mfrom\u001b[0m \u001b[0mEvalF\u001b[0m \u001b[0;32mimport\u001b[0m \u001b[0mFn\u001b[0m\u001b[0;34m\u001b[0m\u001b[0;34m\u001b[0m\u001b[0m\n\u001b[0m\u001b[1;32m      7\u001b[0m \u001b[0;32mimport\u001b[0m \u001b[0mtime\u001b[0m\u001b[0;34m\u001b[0m\u001b[0;34m\u001b[0m\u001b[0m\n\u001b[1;32m      8\u001b[0m \u001b[0;34m\u001b[0m\u001b[0m\n",
      "\u001b[0;31mRecursionError\u001b[0m: maximum recursion depth exceeded during compilation"
     ]
    }
   ],
   "source": [
    "from __future__ import division\n",
    "import numpy as np\n",
    "from setup import *\n",
    "from OrbitalMotion import numerical_orbital_evolution, analytical_orbital_evolution, analytical_split\n",
    "c,G,Msolar,AU, pc = univeral_constants()"
   ]
  },
  {
   "cell_type": "code",
   "execution_count": null,
   "metadata": {},
   "outputs": [],
   "source": [
    "#Choose system parameters \n",
    "\n",
    "#---Inner Binary---\n",
    "m0 = 30*Msolar\n",
    "m1 = 30*Msolar\n",
    "f1 = 1e-3 #orbital frequency\n",
    "a1 = semi_major_axis(m0+m1,f1)\n",
    "e1 = 0.6 #initial eccentricity\n",
    "g1 = np.pi/4\n",
    "J1 = angular_momentum(m0,m1,e1,a1)#angular momentum. Eq. 12 of Randal\n",
    "\n",
    "#---Outer Binary\n",
    "beta=5\n",
    "a2 = beta * a1\n",
    "m2 = 10*Msolar\n",
    "e2 = 0.6\n",
    "\n",
    "#---Shared---\n",
    "I = 60 * np.pi/180.0 #Inclination\n",
    "nmodes = 20 #number of modes to sum over for GW\n",
    "iota = 20 * np.pi/180  #angle of L vector w.r.t observer LOS \n",
    "D = 1e6 * pc #distance from source to observer 1Mpc\n",
    "\n",
    "\n",
    "#---Integration settings\n",
    "Tint = 1.0\n",
    "fs = 1e-1\n",
    "run = 1\n",
    "\n",
    "#---Info for user\n",
    "status(fs, Tint)\n"
   ]
  },
  {
   "cell_type": "code",
   "execution_count": null,
   "metadata": {},
   "outputs": [],
   "source": [
    "\n",
    "import time \n",
    "\n",
    "if run == 1:\n",
    "\n",
    "    #The full numerical solution at high resolution \n",
    "    output = numerical_orbital_evolution(m0,m1,m2,a1,e1,g1,J1,e2,a2,I,fs,Tint)\n",
    "    numerical_motion_highres = output[0]\n",
    "    constants = output[1]\n",
    "    np.save('numerical_refined',numerical_motion_highres)\n",
    "\n",
    "    \n",
    "    \n",
    "   \n",
    "    \n",
    "    \n",
    "    \n",
    "tstart = time.time()\n",
    "#and the training set at low resolution\n",
    "output = numerical_orbital_evolution(m0,m1,m2,a1,e1,g1,J1,e2,a2,I,1e-3,Tint)\n",
    "numerical_motion_lowres = output[0]\n",
    "constants = output[1]\n",
    "np.save('numerical_coarse',numerical_motion_lowres)\n",
    "tend = time.time()\n",
    "\n",
    "print ('Coarse resolution ran in',tend-tstart,' seconds')\n"
   ]
  },
  {
   "cell_type": "code",
   "execution_count": null,
   "metadata": {},
   "outputs": [],
   "source": [
    "import sys\n",
    "\n",
    "#temp plotting setup\n",
    "import matplotlib.pyplot as plt\n",
    "fig = plt.figure(figsize=(24,10)) \n",
    "ax1 = plt.subplot2grid((1,1), (0,0))\n",
    "#end temp plottign setop\n",
    "\n",
    "\n",
    "#Load the high resolution data\n",
    "full_set  = np.load('numerical_refined.npy')\n",
    "\n",
    "#Load the low resolution data\n",
    "training_set = np.load('numerical_coarse.npy')\n",
    "\n",
    "#Create an array to save the outputs\n",
    "analytical = np.empty_like(full_set)\n",
    "\n",
    "\n",
    "\n",
    "\n",
    "\n",
    "#Split numerical coarse into N training sets\n",
    "N = 10\n",
    "T_seconds = Tint*365*24*3600\n",
    "t = np.arange(0,T_seconds,1/fs)\n",
    "Tlim = T_seconds / N\n",
    "\n",
    "\n",
    "\n",
    "#the time of each training set\n",
    "tTRAIN = training_set[:,0]\n",
    "tNUM = full_set[:,0]\n",
    "\n",
    "#Get the incidence in the coarse data closest to the split point\n",
    "idx = min(range(len(tTRAIN)), key=lambda i: abs(tTRAIN[i]-Tlim))\n",
    "Tlim = tTRAIN[idx]\n",
    "\n",
    "\n",
    "#Get the same point in the numerical data\n",
    "idx2 = np.where(tNUM == Tlim)[0][0]\n",
    "\n",
    "\n",
    "tstart = time.time()\n",
    "\n",
    "\n",
    "for i in range(1):\n",
    "    print ('-------', i, '--------')\n",
    "  \n",
    "    #Slice the training set data\n",
    "    subset = training_set[i*idx : i*idx + (idx+1), :]\n",
    "\n",
    "    #Slice the high resolution time\n",
    "    tHR = full_set[i*idx2 : i*idx2 + (idx2+1),0]\n",
    "    \n",
    "\n",
    "    #Use this training set data to get a semi-analytical solution over the relevant time interval\n",
    "    output = analytical_split(subset,tHR,constants)\n",
    "\n",
    "    #Are the endpoints the same?\n",
    "    w = 1\n",
    "    ax1.plot(output[:,0], output[:,w])\n",
    "    ax1.plot(subset[:,0], subset[:,w])\n",
    "\n",
    "    tN = full_set[i*idx2 : i*idx2 + (idx2+1),0] #this is the same as t subset\n",
    "    gN = full_set[i*idx2 : i*idx2 + (idx2+1),w]\n",
    "    \n",
    "    \n",
    "    print ('E = ', output[0,0], tHR[0],tN[0])\n",
    "    print ('E = ', output[-1,0], tHR[-1],tN[-1])\n",
    "    \n",
    "\n",
    "\n",
    "\n",
    "   \n",
    "    #ax1.plot(tN,gN)\n",
    "    #ax1.plot(tN, (output[:,w] - gN)/gN)\n",
    "      \n",
    "    if i == 0:\n",
    "        np.save('EccentricityData/edata_e='+str(e1)+'.npy', subset)\n",
    "        \n",
    "        togo = np.zeros((len(tN),2))\n",
    "        togo[:,0] = tN\n",
    "        togo[:,1] = gN\n",
    "        \n",
    "        np.save('EccentricityData/edataHR_e='+str(e1)+'.npy', togo)\n",
    "        \n",
    "    \n",
    "    analytical[i*idx2 : i*idx2 + (idx2+1),:] = output\n",
    "\n",
    "        \n",
    "tend = time.time()\n",
    "\n",
    "print ('Total runtime = ', tend-tstart)\n",
    "\n",
    "lim = 0.025\n",
    "#ax1.set_ylim(-0.0125,0.0075)"
   ]
  },
  {
   "cell_type": "code",
   "execution_count": null,
   "metadata": {},
   "outputs": [],
   "source": [
    "\n",
    "from plot import *\n",
    "### Now plot and compare\n",
    "#plot_motion(analytical)\n",
    "#plot_motion(full_set)\n",
    "plot_compare_motion(analytical,full_set)\n"
   ]
  },
  {
   "cell_type": "code",
   "execution_count": null,
   "metadata": {},
   "outputs": [],
   "source": [
    "import GravRadiation as GR\n",
    "constants = np.array([m0+m1, nmodes,iota,m0*m1/(m0+m1),D])\n",
    "waveformNR = GR.Gwaves(full_set, constants)\n",
    "waveformAN = GR.Gwaves(analytical, constants)"
   ]
  },
  {
   "cell_type": "code",
   "execution_count": null,
   "metadata": {},
   "outputs": [],
   "source": [
    "#Plot the GW waveforms\n",
    "from plot import *\n",
    "plot_GW(waveformNR,f1)\n",
    "plot_GW(waveformAN,f1)\n",
    "compare_GW(waveformNR,waveformAN)"
   ]
  },
  {
   "cell_type": "code",
   "execution_count": null,
   "metadata": {},
   "outputs": [],
   "source": [
    "#Go to frequency domain and get the overlap\n",
    "f,h1,h2, S = GR.overlap(waveformNR,waveformAN)\n",
    "plot_GW_frequency(f,h1,h2, S)"
   ]
  },
  {
   "cell_type": "code",
   "execution_count": null,
   "metadata": {},
   "outputs": [],
   "source": []
  }
 ],
 "metadata": {
  "kernelspec": {
   "display_name": "Python 3",
   "language": "python",
   "name": "python3"
  },
  "language_info": {
   "codemirror_mode": {
    "name": "ipython",
    "version": 3
   },
   "file_extension": ".py",
   "mimetype": "text/x-python",
   "name": "python",
   "nbconvert_exporter": "python",
   "pygments_lexer": "ipython3",
   "version": "3.7.2"
  }
 },
 "nbformat": 4,
 "nbformat_minor": 2
}
