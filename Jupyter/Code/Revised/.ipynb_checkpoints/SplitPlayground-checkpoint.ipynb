{
 "cells": [
  {
   "cell_type": "code",
   "execution_count": 53,
   "metadata": {},
   "outputs": [
    {
     "name": "stdout",
     "output_type": "stream",
     "text": [
      "The autoreload extension is already loaded. To reload it, use:\n",
      "  %reload_ext autoreload\n"
     ]
    }
   ],
   "source": [
    "%load_ext autoreload\n",
    "%autoreload 2"
   ]
  },
  {
   "cell_type": "code",
   "execution_count": 54,
   "metadata": {},
   "outputs": [],
   "source": [
    "from __future__ import division\n",
    "import numpy as np\n",
    "from setup import *\n",
    "from OrbitalMotion import numerical_orbital_evolution, analytical_orbital_evolution, analytical_split\n",
    "c,G,Msolar,AU, pc = univeral_constants()"
   ]
  },
  {
   "cell_type": "code",
   "execution_count": 55,
   "metadata": {},
   "outputs": [
    {
     "name": "stdout",
     "output_type": "stream",
     "text": [
      "Sampling frequency =  0.01  Hz for an observation period of  1.0  years\n",
      "Total number of integration steps is  315360.0\n",
      "Frequency range is:  3.1709791983764586e-08  -  0.005  Hz\n"
     ]
    }
   ],
   "source": [
    "#Choose system parameters \n",
    "\n",
    "#---Inner Binary---\n",
    "m0 = 30*Msolar\n",
    "m1 = 30*Msolar\n",
    "f1 = 1e-3 #orbital frequency\n",
    "a1 = semi_major_axis(m0+m1,f1)\n",
    "e1 = 0.5 #eccentricity\n",
    "g1 = np.pi/4\n",
    "J1 = angular_momentum(m0,m1,e1,a1)#angular momentum. Eq. 12 of Randal\n",
    "\n",
    "#---Outer Binary\n",
    "beta=5\n",
    "a2 = beta * a1\n",
    "m2 = 10*Msolar\n",
    "e2 = 0.6\n",
    "\n",
    "#---Shared---\n",
    "I = 60 * np.pi/180.0 #Inclination\n",
    "nmodes = 20 #number of modes to sum over for GW\n",
    "iota = 20 * np.pi/180  #angle of L vector w.r.t observer LOS \n",
    "D = 1e6 * pc #distance from source to observer 1Mpc\n",
    "\n",
    "\n",
    "#---Integration settings\n",
    "Tint = 1.0\n",
    "fs = 1e-2\n",
    "\n",
    "#---Info for user\n",
    "status(fs, Tint)\n"
   ]
  },
  {
   "cell_type": "code",
   "execution_count": 56,
   "metadata": {},
   "outputs": [
    {
     "data": {
      "text/plain": [
       "\"\\n#The full numerical solution at high resolution \\noutput = numerical_orbital_evolution(m0,m1,m2,a1,e1,g1,J1,e2,a2,I,fs,Tint)\\nnumerical_motion_highres = output[0]\\nconstants = output[1]\\nnp.save('numerical_refined',numerical_motion_highres)\\n\\ntstart = time.time()\\n#and the training set at low resolution\\noutput = numerical_orbital_evolution(m0,m1,m2,a1,e1,g1,J1,e2,a2,I,1e-3,Tint)\\nnumerical_motion_lowres = output[0]\\nnp.save('numerical_coarse',numerical_motion_lowres)\\ntend = time.time()\\n\\nprint ('Coarse resolution ran in',tend-tstart,' seconds')\\n\""
      ]
     },
     "execution_count": 56,
     "metadata": {},
     "output_type": "execute_result"
    }
   ],
   "source": [
    "import time \n",
    "\n",
    "'''\n",
    "#The full numerical solution at high resolution \n",
    "output = numerical_orbital_evolution(m0,m1,m2,a1,e1,g1,J1,e2,a2,I,fs,Tint)\n",
    "numerical_motion_highres = output[0]\n",
    "constants = output[1]\n",
    "np.save('numerical_refined',numerical_motion_highres)\n",
    "\n",
    "tstart = time.time()\n",
    "#and the training set at low resolution\n",
    "output = numerical_orbital_evolution(m0,m1,m2,a1,e1,g1,J1,e2,a2,I,1e-3,Tint)\n",
    "numerical_motion_lowres = output[0]\n",
    "np.save('numerical_coarse',numerical_motion_lowres)\n",
    "tend = time.time()\n",
    "\n",
    "print ('Coarse resolution ran in',tend-tstart,' seconds')\n",
    "'''"
   ]
  },
  {
   "cell_type": "code",
   "execution_count": 81,
   "metadata": {},
   "outputs": [
    {
     "name": "stdout",
     "output_type": "stream",
     "text": [
      "------- 0 --------\n",
      "extract ecc\n",
      "The eccentricity fit completed in 0.006860017776489258 seconds\n",
      "Calculated e(t) to high resolution\n",
      "Now calculating a(t) to high resolution\n",
      "Extract for double trig func\n",
      "The gamma derivative fit completed in 0.0055999755859375 seconds\n",
      "Now calculating gamma(t) to high resolution\n",
      "gN= 0.7853981633974483 68.85511511969123\n",
      "gA= 0.7853981633974492 68.8554794775911\n",
      "------- 1 --------\n",
      "extract ecc\n",
      "The eccentricity fit completed in 0.0067179203033447266 seconds\n",
      "Calculated e(t) to high resolution\n",
      "Now calculating a(t) to high resolution\n",
      "Extract for double trig func\n",
      "The gamma derivative fit completed in 0.005996227264404297 seconds\n",
      "Now calculating gamma(t) to high resolution\n",
      "gN= 68.85511511969123 137.18275114355723\n",
      "gA= 68.85511511969123 137.1830455797491\n",
      "------- 2 --------\n",
      "extract ecc\n",
      "The eccentricity fit completed in 0.009079694747924805 seconds\n",
      "Calculated e(t) to high resolution\n",
      "Now calculating a(t) to high resolution\n",
      "Extract for double trig func\n",
      "The gamma derivative fit completed in 0.011566877365112305 seconds\n",
      "Now calculating gamma(t) to high resolution\n",
      "gN= 137.18275114355723 205.3008754771856\n",
      "gA= 137.18275114355492 205.30089796235552\n",
      "------- 3 --------\n",
      "extract ecc\n",
      "The eccentricity fit completed in 0.011111021041870117 seconds\n",
      "Calculated e(t) to high resolution\n",
      "Now calculating a(t) to high resolution\n",
      "Extract for double trig func\n",
      "The gamma derivative fit completed in 0.009871959686279297 seconds\n",
      "Now calculating gamma(t) to high resolution\n",
      "gN= 205.3008754771856 273.56981353915364\n",
      "gA= 205.3008754771854 273.56998950332354\n",
      "------- 4 --------\n",
      "extract ecc\n",
      "The eccentricity fit completed in 0.01638031005859375 seconds\n",
      "Calculated e(t) to high resolution\n",
      "Now calculating a(t) to high resolution\n",
      "Extract for double trig func\n",
      "The gamma derivative fit completed in 0.007209300994873047 seconds\n",
      "Now calculating gamma(t) to high resolution\n",
      "gN= 273.56981353915364 341.5536332267579\n",
      "gA= 273.56981353915364 341.5543419453858\n",
      "------- 5 --------\n",
      "extract ecc\n",
      "The eccentricity fit completed in 0.01994609832763672 seconds\n",
      "Calculated e(t) to high resolution\n",
      "Now calculating a(t) to high resolution\n",
      "Extract for double trig func\n",
      "The gamma derivative fit completed in 0.009026050567626953 seconds\n",
      "Now calculating gamma(t) to high resolution\n",
      "gN= 341.5536332267579 409.62936156372865\n",
      "gA= 341.5536332267579 409.62954231152173\n",
      "------- 6 --------\n",
      "extract ecc\n",
      "The eccentricity fit completed in 0.01856374740600586 seconds\n",
      "Calculated e(t) to high resolution\n",
      "Now calculating a(t) to high resolution\n",
      "Extract for double trig func\n",
      "The gamma derivative fit completed in 0.010787010192871094 seconds\n",
      "Now calculating gamma(t) to high resolution\n",
      "gN= 409.62936156372865 477.82164949991426\n",
      "gA= 409.6293615637285 477.8214710278535\n",
      "------- 7 --------\n",
      "extract ecc\n",
      "The eccentricity fit completed in 0.013332843780517578 seconds\n",
      "Calculated e(t) to high resolution\n",
      "Now calculating a(t) to high resolution\n",
      "Extract for double trig func\n",
      "The gamma derivative fit completed in 0.006661891937255859 seconds\n",
      "Now calculating gamma(t) to high resolution\n",
      "gN= 477.82164949991426 545.7126234448775\n",
      "gA= 477.82164949991426 545.7131535912408\n",
      "------- 8 --------\n",
      "extract ecc\n",
      "The eccentricity fit completed in 0.03234291076660156 seconds\n",
      "Calculated e(t) to high resolution\n",
      "Now calculating a(t) to high resolution\n",
      "Extract for double trig func\n",
      "The gamma derivative fit completed in 0.008817195892333984 seconds\n",
      "Now calculating gamma(t) to high resolution\n",
      "gN= 545.7126234448775 613.681925286259\n",
      "gA= 545.7126234448775 613.6822975388459\n",
      "------- 9 --------\n",
      "extract ecc\n",
      "The eccentricity fit completed in 0.023705244064331055 seconds\n",
      "Calculated e(t) to high resolution\n",
      "Now calculating a(t) to high resolution\n",
      "Extract for double trig func\n",
      "The gamma derivative fit completed in 0.012925863265991211 seconds\n",
      "Now calculating gamma(t) to high resolution\n",
      "gN= 613.681925286259 681.4910398166144\n",
      "gA= 613.681925286259 681.4913851350618\n"
     ]
    },
    {
     "data": {
      "image/png": "[encoded data removed]",
      "text/plain": [
       "<Figure size 1728x720 with 1 Axes>"
      ]
     },
     "metadata": {
      "needs_background": "light"
     },
     "output_type": "display_data"
    }
   ],
   "source": [
    "import sys\n",
    "\n",
    "#temp plotting setup\n",
    "import matplotlib.pyplot as plt\n",
    "fig = plt.figure(figsize=(24,10)) \n",
    "ax1 = plt.subplot2grid((1,1), (0,0))\n",
    "#end temp plottign setop\n",
    "\n",
    "\n",
    "#Load the high resolution data\n",
    "full_set  = np.load('numerical_refined.npy')\n",
    "\n",
    "#Load the low resolution data\n",
    "training_set = np.load('numerical_coarse.npy')\n",
    "\n",
    "#Create an array to save the outputs\n",
    "analytical = np.empty_like(full_set)\n",
    "\n",
    "\n",
    "\n",
    "\n",
    "\n",
    "#Split numerical coarse into N training sets\n",
    "N = 10\n",
    "T_seconds = Tint*365*24*3600\n",
    "t = np.arange(0,T_seconds,1/fs)\n",
    "Tlim = T_seconds / N\n",
    "\n",
    "\n",
    "\n",
    "#the time of each training set\n",
    "tTRAIN = training_set[:,0]\n",
    "tNUM = full_set[:,0]\n",
    "\n",
    "#Get the incidence in the coarse data closest to the split point\n",
    "idx = min(range(len(tTRAIN)), key=lambda i: abs(tTRAIN[i]-Tlim))\n",
    "Tlim = tTRAIN[idx]\n",
    "\n",
    "\n",
    "#Get the same point in the numerical data\n",
    "idx2 = np.where(tNUM == Tlim)[0][0]\n",
    "\n",
    "\n",
    "\n",
    "for i in range(10):\n",
    "    print ('-------', i, '--------')\n",
    "  \n",
    "    #Slice the training set data\n",
    "    subset = training_set[i*idx : i*idx + (idx+1), :]\n",
    "\n",
    "    #Slice the high resolution time\n",
    "    tHR = full_set[i*idx2 : i*idx2 + (idx2+1),0]\n",
    "    \n",
    "    \n",
    "    #print ('Time endpoints:', tHR[0], tHR[-1])\n",
    "   # print ('Time endpoints:', subset[0,0],subset[-1,0])\n",
    "    #print (T_seconds,t[-1], tTRAIN[-1], tNUM[-1])\n",
    "    #sys.exit()\n",
    "\n",
    "    #Use this training set data to get a semi-analytical solution over the relevant time interval\n",
    "    output = analytical_split(subset,tHR,constants)\n",
    "\n",
    "    #Are the endpoints the same?\n",
    "    w = 2\n",
    "    #ax1.plot(output[:,0], output[:,w])\n",
    "    #ax1.plot(subset[:,0], subset[:,w])\n",
    "\n",
    "    tN = full_set[i*idx2 : i*idx2 + (idx2+1),0] #this is the same as t subset\n",
    "    gN = full_set[i*idx2 : i*idx2 + (idx2+1),w]\n",
    "    \n",
    "    \n",
    "    print ('Checking endpoints. Output STA', output[0,:])\n",
    "    print ('Checking endpoints. Numeri STA', full_set[i*idx2,:])\n",
    "    \n",
    "    print ('Checking endpoints. Output END', output[-1,:])\n",
    "    print ('Checking endpoints. Numeri END', full_set[i*idx2 + (idx2+1),:])\n",
    "    \n",
    "    \n",
    "    #k = 0\n",
    "    #print ('H0= ', tN[k],gN[k])\n",
    "    #print ('K0 =',output[k,0], output[k,w])\n",
    "    \n",
    "    #k = -1\n",
    "    #print ('H= ', tN[k],gN[k])\n",
    "    #print ('K =',output[k,0], output[k,w])\n",
    "\n",
    "\n",
    "\n",
    "   \n",
    "    #ax1.plot(tN,gN)\n",
    "    ax1.plot(tN, (output[:,w] - gN)/gN)\n",
    "      \n",
    "    \n",
    "    #np.save('eccentricity_data.npy', subset)\n",
    "    #np.save('eccentricity_dataHR.npy', full_set[i*Lt : i*Lt + (Lt+1),:])\n",
    "    \n",
    "    analytical[i*idx2 : i*idx2 + (idx2+1),:] = output\n",
    "\n",
    "        \n",
    "\n",
    "lim = 0.025\n",
    "#ax1.set_ylim(-0.0125,0.0075)"
   ]
  },
  {
   "cell_type": "code",
   "execution_count": null,
   "metadata": {},
   "outputs": [],
   "source": [
    "#Now plot and compare\n",
    "plot_motion(analytical)\n",
    "plot_motion(full_set)\n",
    "plot_compare_motion(analytical,full_set)\n"
   ]
  },
  {
   "cell_type": "code",
   "execution_count": null,
   "metadata": {},
   "outputs": [],
   "source": [
    "import GravRadiation as GR\n",
    "constants = np.array([m0+m1, nmodes,iota,m0*m1/(m0+m1),D])\n",
    "waveformNR = GR.Gwaves(full_set, constants)\n",
    "waveformAN = GR.Gwaves(analytical, constants)"
   ]
  },
  {
   "cell_type": "code",
   "execution_count": null,
   "metadata": {},
   "outputs": [],
   "source": [
    "#Plot the GW waveforms\n",
    "from plot import *\n",
    "plot_GW(waveformNR,f1)\n",
    "plot_GW(waveformAN,f1)\n",
    "compare_GW(waveformNR,waveformAN)"
   ]
  },
  {
   "cell_type": "code",
   "execution_count": null,
   "metadata": {},
   "outputs": [],
   "source": [
    "#Go to frequency domain and get the overlap\n",
    "f,h1,h2, S = GR.overlap(waveformNR,waveformAN)\n",
    "#plot_GW_frequency(f,h1,h2, S)"
   ]
  },
  {
   "cell_type": "code",
   "execution_count": null,
   "metadata": {},
   "outputs": [],
   "source": []
  }
 ],
 "metadata": {
  "kernelspec": {
   "display_name": "Python 3",
   "language": "python",
   "name": "python3"
  },
  "language_info": {
   "codemirror_mode": {
    "name": "ipython",
    "version": 3
   },
   "file_extension": ".py",
   "mimetype": "text/x-python",
   "name": "python",
   "nbconvert_exporter": "python",
   "pygments_lexer": "ipython3",
   "version": "3.7.2"
  }
 },
 "nbformat": 4,
 "nbformat_minor": 2
}
