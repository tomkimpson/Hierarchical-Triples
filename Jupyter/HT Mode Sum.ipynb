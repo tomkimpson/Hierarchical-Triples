{
 "cells": [
  {
   "cell_type": "code",
   "execution_count": 1,
   "metadata": {},
   "outputs": [],
   "source": [
    "from __future__ import division\n",
    "import numpy as np\n",
    "import sys"
   ]
  },
  {
   "cell_type": "code",
   "execution_count": 2,
   "metadata": {},
   "outputs": [],
   "source": [
    "#Universal Constants\n",
    "c = 3e8\n",
    "G = 6.67e-11\n",
    "Msolar = 2e30\n",
    "AU = 1.49e11 #meters\n",
    "Kozai = 0 #Turn on/off Kozai osc"
   ]
  },
  {
   "cell_type": "markdown",
   "metadata": {},
   "source": [
    "First define some useful functions. Here we have calculation of the semi-major axis, calculation of the angular momentum and expressions for $\\dot{e}, \\dot{\\gamma}$ which can be set $=0$ if Kozai parameter is turned off ($=0$)"
   ]
  },
  {
   "cell_type": "code",
   "execution_count": 3,
   "metadata": {},
   "outputs": [],
   "source": [
    "def sma(M,f):\n",
    "    #Total mass, orbital frequency\n",
    "    return (G*M/(2*np.pi*f)**2)**(1/3)\n",
    "\n",
    "def ang_mom(m1,m2,a):\n",
    "    M = m1+m2\n",
    "    return m1*m2 * np.sqrt(G*a/M)\n",
    "\n",
    "def derivs(y):\n",
    "    e = y[0]\n",
    "    gamma = y[1]\n",
    "    \n",
    "    de = 5*K*e*(1-e**2)*(1-np.cos(I)**2)*np.sin(2*gamma)/J1 \n",
    "    \n",
    "\n",
    "    \n",
    "    dg_part1 = 2*(1-e**2) - 5*(1-e**2 - np.cos(I)**2)*np.sin(gamma)**2\n",
    "    dg_part2 = (1 - e**2 + 5*e**2 * np.cos(gamma)**2)*np.cos(I)\n",
    "    dg = 2*K*(dg_part1/J1 + dg_part2/J2)\n",
    "    \n",
    "    \n",
    "        \n",
    "\n",
    "    \n",
    "    if Kozai == 1:\n",
    "        return np.array((de,dg))\n",
    "    else:\n",
    "        return np.array((0.0,0.0)) #turn off derivative changes due to Kozai\n",
    "    \n",
    "    \n",
    "def derivs2(y):\n",
    "    e = y[0]\n",
    "    gamma = y[1]\n",
    "    \n",
    "    de = 5*K*e*(1-e**2)*(1-np.cos(I)**2)*np.sin(2*gamma)/J1 \n",
    "    \n",
    "\n",
    "    #e = e1\n",
    "    dg_part1 = 2*(1-e**2) - 5*(1-e**2 - np.cos(I)**2)*np.sin(gamma)**2\n",
    "    dg_part2 = (1 - e**2 + 5*e**2 * np.cos(gamma)**2)*np.cos(I)\n",
    "    dg = 2*K*(dg_part1/J1 + dg_part2/J2)\n",
    "        \n",
    "\n",
    "    \n",
    "    if Kozai == 1:\n",
    "        return np.array((de,dg))\n",
    "    else:\n",
    "        return np.array((0.0,0.0)) #turn off derivative changes due to Ko\n",
    "    \n",
    "    "
   ]
  },
  {
   "cell_type": "markdown",
   "metadata": {},
   "source": [
    "Parameters relating to the inner binary: $m0, m1,f1,e1$\n",
    "\n",
    "Parameters relating to the outer binary: $m2,e2,a2,e2$. The semi-major axis is calculated in relation to the SMA of the inner binary e.g. $a_2 = 100 a_1$\n",
    "\n",
    "Shared parameters included the inclination $I$ which is the inclination of the inner orbit w.r.t the outer orbit and $\\gamma$ which specifies the argument of periastron. \n",
    "\n",
    "The timescale of KL oscillation is given by\n",
    "\n",
    "$$t_{\\rm KL} = \\sqrt{\\frac{M a_2^6 \\epsilon_1 \\epsilon_2^3}{G m_2^2 a_1^3}} \\sim \\dot{e}^{-1}$$\n",
    "\n",
    "If we express the $a_2$ in terms of $a_1$ times some scale factor $\\beta$ ($a_2 = \\beta a_1$) then:\n",
    "\n",
    "$$t_{\\rm KL} = \\sqrt{\\frac{M  \\epsilon_1 \\epsilon_2^3}{G m_2^2 } \\beta^6 a_1^3} $$\n"
   ]
  },
  {
   "cell_type": "code",
   "execution_count": 4,
   "metadata": {
    "scrolled": true
   },
   "outputs": [
    {
     "name": "stdout",
     "output_type": "stream",
     "text": [
      "Semi major axis of inner binary =  0.003942722210092745  AU\n",
      "Semi major axis of outer binary =  0.03942722210092746  AU\n",
      "tKL =  423420.59168393567 seconds\n",
      "t inner orbit 1000.0 seconds\n",
      "Ratio =  0.002361717922179975\n",
      "7.669903939428217e-07\n",
      "3.929656402348026e-07\n",
      "0.099\n",
      "0.010000000000000002\n"
     ]
    }
   ],
   "source": [
    "#Inner binary parameters\n",
    "m0 = 30*Msolar\n",
    "m1 = 30*Msolar\n",
    "f1 = 1e-3 #orbital frequency\n",
    "e1 = 0.5 #eccentricity\n",
    "#Inner binary calculations\n",
    "eps1 = 1-e1**2\n",
    "a1 = sma(m0+m1,f1)#semi major axis via K3\n",
    "J1 = ang_mom(m0,m1,a1)\n",
    "beta = 10\n",
    "\n",
    "print ('Semi major axis of inner binary = ', a1/AU, ' AU')\n",
    "\n",
    "#Outer binary parameters\n",
    "m2 = 10*Msolar\n",
    "e2 = 0.6\n",
    "eps2 = 1-e2**2\n",
    "\n",
    "a2 = beta*a1\n",
    "\n",
    "\n",
    "J2 = ang_mom(m0+m1,m2,a2)\n",
    "print ('Semi major axis of outer binary = ', a2/AU, ' AU')\n",
    "\n",
    "#Shared\n",
    "I = 45 * np.pi/180.0 #Inclination\n",
    "gamma = np.pi/4\n",
    "\n",
    "gamma0 = np.pi/4\n",
    "\n",
    "\n",
    "#Other\n",
    "K = 3*G*m0*m1*m2*a1**2 / (8*(m0+m1) * a2**3*(1-e2**2)**(3/2))\n",
    "tKL = np.sqrt(G*m2**2*a1**3 / ((m0+m1)*a2**6 * eps1*eps2**3))\n",
    "\n",
    "\n",
    "eps = tKL / f1\n",
    "\n",
    "print ('tKL = ', tKL**(-1), 'seconds')\n",
    "print ('t inner orbit', f1**(-1), 'seconds')\n",
    "print ('Ratio = ', eps)\n",
    "\n",
    "\n",
    "print (K/J1)\n",
    "print (K/J2)\n",
    "\n",
    "etest = 0.1\n",
    "print (etest*(1-etest**2))\n",
    "print (etest**2)\n",
    "\n"
   ]
  },
  {
   "cell_type": "code",
   "execution_count": 5,
   "metadata": {},
   "outputs": [
    {
     "name": "stdout",
     "output_type": "stream",
     "text": [
      "372.3956819693384\n",
      "15768 157680000\n"
     ]
    }
   ],
   "source": [
    "#Now do a basic numerical integration using RK4\n",
    "\n",
    "h = 10000 #Stepsize . seconds\n",
    "\n",
    "Tfinal = 5  #years\n",
    "Tf = 5*365*24*3600 #seconds\n",
    "\n",
    "\n",
    "print (Tf / tKL**(-1))\n",
    "\n",
    "\n",
    "#Tf = 10*f1**(-1) #n  timescales\n",
    "#Tf = 10* tKL**(-1)\n",
    "\n",
    "\n",
    "nsteps = int(Tf / h) \n",
    "\n",
    "\n",
    "out = np.zeros((nsteps,3)) #t,e,gamma\n",
    "yn = np.array((e1,gamma))\n",
    "\n",
    "print (nsteps, Tf)\n",
    "\n",
    "t = 0\n",
    "counter = 0\n",
    "\n",
    "\n",
    "\n",
    "\n",
    "\n",
    "while t < Tf:\n",
    "\n",
    "    k1 = h * derivs2(yn)\n",
    "    k2 = h * derivs2(yn + k1/2)\n",
    "    k3 = h * derivs2(yn + k2/2)\n",
    "    k4 = h * derivs2(yn + k3)\n",
    "    ynew = yn + (k1 + 2*k2 + 2*k3 + k4)/6\n",
    "    yn = ynew\n",
    "    \n",
    "    t = t + h\n",
    "    \n",
    "\n",
    "    out[counter,0] = t\n",
    "    out[counter,1] = yn[0]\n",
    "    out[counter,2] = yn[1] \n",
    "    counter = counter + 1"
   ]
  },
  {
   "cell_type": "code",
   "execution_count": 219,
   "metadata": {
    "scrolled": true
   },
   "outputs": [
    {
     "name": "stdout",
     "output_type": "stream",
     "text": [
      "7.190534943213955e-10 1.5838751076062936e-09\n",
      "15768 15768 15768\n"
     ]
    },
    {
     "data": {
      "text/plain": [
       "<matplotlib.lines.Line2D at 0x133ca74e0>"
      ]
     },
     "execution_count": 219,
     "metadata": {},
     "output_type": "execute_result"
    },
    {
     "data": {
      "image/png": "[encoded data removed]",
      "text/plain": [
       "<Figure size 720x720 with 2 Axes>"
      ]
     },
     "metadata": {
      "needs_background": "light"
     },
     "output_type": "display_data"
    }
   ],
   "source": [
    "%matplotlib inline\n",
    "import matplotlib\n",
    "import matplotlib.pyplot as plt\n",
    "\n",
    "\n",
    "        \n",
    "AA = 2*K*e1/J1 + 2*K*np.cos(I)*e1/J2    \n",
    "BB = -10*K*(e1 - np.cos(I)**2)/J1 + 2*K*np.cos(I)*5*0.1/J2\n",
    "extra = np.arctan(np.tan(gamma0) * np.sqrt(AA+BB)/np.sqrt(AA))\n",
    "newg = np.arctan(np.sqrt(AA)/np.sqrt(AA+BB) * np.tan(np.sqrt(AA)*np.sqrt(BB)*t + extra))   \n",
    "\n",
    "\n",
    "\n",
    "\n",
    "\n",
    "\n",
    "\n",
    "t = out[:,0]\n",
    "ee = out[:,1]\n",
    "gg = out[:,2]\n",
    "\n",
    "\n",
    "test_array=np.array([e1,gamma])\n",
    "edot, gdot = derivs(test_array)\n",
    "print (edot,gdot)\n",
    "enew = edot*t + e1\n",
    "\n",
    "\n",
    "plot_t = t / (60*60*24*365)\n",
    "\n",
    "print (len(t), len(ee), len(gg))\n",
    "fig = plt.figure(figsize=(10,10))\n",
    "ax1 = plt.subplot2grid((2,1), (0,0)) \n",
    "ax2 = plt.subplot2grid((2,1), (1,0), sharex=ax1) \n",
    "ax1.plot(plot_t, ee)\n",
    "ax2.plot(plot_t, np.sin(2*gg))\n",
    "#ax2.plot(plot_t,np.sin(2*newg))\n",
    "\n",
    "#ax1.plot(t,enew)\n",
    "\n",
    "\n",
    "\n",
    "#plt.rc('text', usetex=True)\n",
    "#plt.rc('font', family='serif')\n",
    "#plt.setp(ax1.get_xticklabels(),visible = False)\n",
    "ax1.tick_params(axis='y', which='major', labelsize=16)\n",
    "ax2.tick_params(axis='y', which='major', labelsize=16)\n",
    "\n",
    "ax2.set_xlabel('t/T', fontsize = 20)\n",
    "ax1.set_ylabel('$e$', fontsize = 20)\n",
    "ax2.set_ylabel('$\\gamma$', fontsize = 20)\n",
    "\n",
    "\n",
    "#ax1.axvline(tKL**-1/(60*60*24*3600))\n",
    "\n",
    "period = np.pi/gdot\n",
    "period = period/(365*24*3600)\n",
    "ax1.axvline(period)\n",
    "\n",
    "\n",
    "#ax2.set_xlim(1,1.1)\n",
    "\n",
    "\n",
    "#plt.savefig('Figs/e_KZ='+str(Kozai)+'.png', dpi = 300)"
   ]
  },
  {
   "cell_type": "code",
   "execution_count": 88,
   "metadata": {},
   "outputs": [
    {
     "ename": "SystemExit",
     "evalue": "",
     "output_type": "error",
     "traceback": [
      "An exception has occurred, use %tb to see the full traceback.\n",
      "\u001b[0;31mSystemExit\u001b[0m\n"
     ]
    }
   ],
   "source": [
    "sys.exit()\n",
    "from scipy import special as sp\n",
    "\n",
    "#Calculate the ABC for the quadrupole derivative\n",
    "\n",
    "\n",
    "e_var = ee\n",
    "g_var = gg\n",
    "MA = 2*np.pi*f1*t \n",
    "mu = m0*m1/(m0+m1) #reduced mass of inner binary\n",
    "AA = (2*np.pi*f1*(m0+m1))**(2/3) * mu\n",
    "iota = 20 * np.pi/180  #angle of L vector w.r.t observer LOS \n",
    "\n",
    "\n",
    "\n",
    "nsum = 100\n",
    "\n",
    "hGW = np.zeros((nsteps, 2))\n",
    "for n in np.arange(1,nsum+1):\n",
    "\n",
    "    J_2 = sp.jv(n-2,n*e_var)\n",
    "    J_1 = sp.jv(n-1,n*e_var) \n",
    "    Jn = sp.jv(n,n*e_var) \n",
    "    J1 = sp.jv(n+1,n*e_var)\n",
    "    J2 = sp.jv(n+2,n*e_var)\n",
    "    \n",
    "    an = -n*AA*(J_2 - 2*e_var*J_1 + 2*Jn/n + 2*e_var*J1 - J2)*np.cos(n*MA)\n",
    "    bn = -n*AA*np.sqrt((1-e_var**2)) * (J_2 - 2*Jn + J2)*np.sin(n*MA)\n",
    "    cn = 2*AA*Jn*np.cos(n*MA)\n",
    "    \n",
    "    \n",
    "    hplus = -(1+np.cos(iota)) * (an*np.cos(2*g_var) - bn*np.sin(2*g_var)) + (1-np.cos(iota)**2)*cn\n",
    "    hcross = 2*np.cos(iota)*(bn*np.cos(2*g_var) + an*np.sin(2*gamma))\n",
    "    \n",
    "    hGW[:,0] = hGW[:,0] + hplus\n",
    "    hGW[:,1] = hGW[:,1] + hcross\n",
    "    "
   ]
  },
  {
   "cell_type": "code",
   "execution_count": null,
   "metadata": {},
   "outputs": [],
   "source": [
    "hplus = hGW[:,0] / mu\n",
    "hcross = hGW[:,1] / mu\n",
    "\n",
    "\n",
    "tplot = t*f1\n",
    "\n",
    "fig = plt.figure(figsize=(10,10))\n",
    "ax1 = plt.subplot2grid((2,1), (0,0)) \n",
    "ax2 = plt.subplot2grid((2,1), (1,0), sharex=ax1) \n",
    "ax1.plot(tplot, hplus)\n",
    "ax2.plot(tplot, hcross)\n",
    "\n",
    "\n",
    "#Prettify\n",
    "ax1.set_ylim(-4e21,4e21)\n",
    "ax2.set_ylim(-4e21,4e21)\n",
    "\n",
    "\n",
    "plt.rc('text', usetex=True)\n",
    "plt.rc('font', family='serif')\n",
    "plt.setp(ax1.get_xticklabels(),visible = False)\n",
    "ax1.tick_params(axis='y', which='major', labelsize=16)\n",
    "ax2.tick_params(axis='y', which='major', labelsize=16)\n",
    "\n",
    "ax2.set_xlabel('t/T', fontsize = 20)\n",
    "ax1.set_ylabel('$h_{+}$', fontsize = 20)\n",
    "ax2.set_ylabel(r'$h_{\\times}$', fontsize = 20)\n",
    "\n",
    "\n",
    "\n",
    "plt.savefig('Figs/GW_KZ='+str(Kozai)+'.png', dpi = 300)\n",
    "\n",
    "\n",
    "ax1.set_xlim(0,2)\n",
    "plt.savefig('Figs/GW_ZOOM_KZ='+str(Kozai)+'.png', dpi = 300)\n",
    "\n",
    "\n"
   ]
  },
  {
   "cell_type": "code",
   "execution_count": null,
   "metadata": {},
   "outputs": [],
   "source": []
  }
 ],
 "metadata": {
  "kernelspec": {
   "display_name": "Python 3",
   "language": "python",
   "name": "python3"
  },
  "language_info": {
   "codemirror_mode": {
    "name": "ipython",
    "version": 3
   },
   "file_extension": ".py",
   "mimetype": "text/x-python",
   "name": "python",
   "nbconvert_exporter": "python",
   "pygments_lexer": "ipython3",
   "version": "3.7.2"
  }
 },
 "nbformat": 4,
 "nbformat_minor": 2
}
