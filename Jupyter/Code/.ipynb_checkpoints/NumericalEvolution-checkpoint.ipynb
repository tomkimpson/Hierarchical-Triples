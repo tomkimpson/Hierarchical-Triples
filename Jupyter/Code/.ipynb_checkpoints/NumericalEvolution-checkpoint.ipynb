{
 "cells": [
  {
   "cell_type": "code",
   "execution_count": 1,
   "metadata": {},
   "outputs": [],
   "source": [
    "from __future__ import division\n",
    "import numpy as np\n",
    "import sys\n",
    "from scipy import special as sp\n",
    "#Universal Constants\n",
    "c = 3e8\n",
    "G = 6.67e-11\n",
    "Msolar = 2e30\n",
    "AU = 1.49e11 #meters"
   ]
  },
  {
   "cell_type": "code",
   "execution_count": 8,
   "metadata": {},
   "outputs": [],
   "source": [
    "#Define all functions\n",
    "def sma(M,f):\n",
    "    #Total mass, orbital frequency\n",
    "    return (G*M/(2*np.pi*f)**2)**(1/3)\n",
    "\n",
    "def ang_mom(m1,m2,a):\n",
    "    M = m1+m2\n",
    "    return m1*m2 * np.sqrt(G*a/M)\n",
    "\n",
    "\n",
    "def setup(m0,m1,f1,e1):\n",
    "    mu1 = (m0*m1)/(m0+m1)\n",
    "\n",
    "    #Inner Binary calcs\n",
    "    eps1 = 1-e1**2\n",
    "    a1 = sma(m0+m1,f1)#semi major axis via K3\n",
    "    J1 = ang_mom(m0,m1,a1)\n",
    "    \n",
    "        #Outer Binary\n",
    "    eps2 = 1-e2**2\n",
    "    a2 = beta*a1\n",
    "    J2 = ang_mom(m0+m1,m2,a2)\n",
    "\n",
    "\n",
    "\n",
    "\n",
    "\n",
    "\n",
    "    yn = np.array((e1,gamma,a1))\n",
    "    constants = np.array((K,J1,J2,I,mu1,M))\n",
    "\n",
    "\n",
    "\n",
    "\n",
    "\n",
    "\n",
    "def numerical_soln(m0,m1,f1,e1,beta,m2,e2,I,gamma,t_res):\n",
    "    \n",
    "\n",
    "\n",
    "\n",
    "\n",
    "    \n",
    "        \n",
    "    #Caclualte magntiude of r2\n",
    "    r2 = a2*(1-e2**2) / (1+e2*np.cos(psi))\n",
    "    BigR2 = np.average(r2)\n",
    "            \n",
    "    \n",
    "    #Check if we satisfy the weak coupling conditions\n",
    "    condition1 = m2*(BigR1/BigR2)**3 / M\n",
    "    condition2 = mu1*(BigR1/BigR2)**2 / M\n",
    "    \n",
    "    #Other\n",
    "    K = 3*G*m0*m1*m2*a1**2 / (8*(m0+m1) * a2**3*(1-e2**2)**(3/2))\n",
    "    "
   ]
  },
  {
   "cell_type": "code",
   "execution_count": 9,
   "metadata": {},
   "outputs": [],
   "source": [
    "#Set up initial system parameters\n",
    "m0 = 30*Msolar\n",
    "m1 = 30*Msolar\n",
    "f1 = 1e-3 #orbital frequency\n",
    "e1 = 0.5 #eccentricity\n",
    "beta=100\n",
    "m2 = 10*Msolar\n",
    "e2 =0.6\n",
    "I = 60 * np.pi/180.0 #Inclination\n",
    "gamma = np.pi/4\n",
    "t_res = int(3e4)\n",
    "\n",
    "numerical_soln(m0,m1,f1,e1,beta,m2,e2,I,gamma,t_res)\n",
    "\n"
   ]
  },
  {
   "cell_type": "code",
   "execution_count": null,
   "metadata": {},
   "outputs": [],
   "source": []
  }
 ],
 "metadata": {
  "kernelspec": {
   "display_name": "Python 3",
   "language": "python",
   "name": "python3"
  },
  "language_info": {
   "codemirror_mode": {
    "name": "ipython",
    "version": 3
   },
   "file_extension": ".py",
   "mimetype": "text/x-python",
   "name": "python",
   "nbconvert_exporter": "python",
   "pygments_lexer": "ipython3",
   "version": "3.7.2"
  }
 },
 "nbformat": 4,
 "nbformat_minor": 2
}
